{
 "cells": [
  {
   "cell_type": "code",
   "execution_count": 5,
   "metadata": {},
   "outputs": [],
   "source": [
    "from zad1.BSTTree import BSTTree\n",
    "from zad2.RBTree import RBTree\n",
    "from zad3.HashMap import HashMap\n",
    "import time\n",
    "import random"
   ]
  },
  {
   "cell_type": "code",
   "execution_count": 6,
   "metadata": {},
   "outputs": [],
   "source": [
    "bst = BSTTree()\n",
    "rbt = RBTree()\n",
    "hmap = HashMap()\n",
    "structures = {\n",
    "    \"bst\": bst,\n",
    "    \"rbt\": rbt,\n",
    "    \"hmap\": hmap}"
   ]
  },
  {
   "cell_type": "markdown",
   "metadata": {},
   "source": [
    "## Wyznaczanie nt"
   ]
  },
  {
   "cell_type": "code",
   "execution_count": 7,
   "metadata": {},
   "outputs": [
    {
     "name": "stdout",
     "output_type": "stream",
     "text": [
      "412053\n"
     ]
    }
   ],
   "source": [
    "array = []\n",
    "with open(\"./slowa.txt\", 'r') as file:\n",
    "    array = file.read().splitlines()\n",
    "print(len(array))"
   ]
  },
  {
   "cell_type": "code",
   "execution_count": 34,
   "metadata": {},
   "outputs": [],
   "source": [
    "times_list = []\n",
    "testing = []\n",
    "for i in range (100, 2500, 50):\n",
    "    tmp = array[:i]\n",
    "    random.shuffle(tmp)\n",
    "    testing.append(tmp)\n",
    "    flag = True\n",
    "    start = time.time()\n",
    "    testing_list = []\n",
    "    for new_word in tmp:\n",
    "        for index, element in enumerate(testing_list):\n",
    "            if element > new_word:\n",
    "                flag = False\n",
    "                testing_list.insert(index, new_word)\n",
    "                break\n",
    "        if flag:\n",
    "            testing_list.append(new_word)\n",
    "            flag = True\n",
    "    times_list.append((time.time() - start) / i) "
   ]
  },
  {
   "cell_type": "code",
   "execution_count": 35,
   "metadata": {},
   "outputs": [],
   "source": [
    "testing_rbt = RBTree()\n",
    "times_tree = []\n",
    "for test in testing:\n",
    "    flag = True\n",
    "    start = time.time()\n",
    "    for new_word in test:\n",
    "        testing_rbt.insert(new_word)\n",
    "    times_tree.append((time.time() - start) / len(test))  \n",
    "    testing_rbt = RBTree()"
   ]
  },
  {
   "cell_type": "code",
   "execution_count": 36,
   "metadata": {},
   "outputs": [
    {
     "name": "stdout",
     "output_type": "stream",
     "text": [
      "8.916854858398437e-06 7.040500640869141e-06\n",
      "8.85168711344401e-06 7.294019063313802e-06\n",
      "4.998445510864258e-06 1.68454647064209e-05\n",
      "1.067829132080078e-05 1.9121170043945313e-05\n",
      "2.2974014282226562e-05 7.475217183430989e-06\n",
      "2.5476046970912387e-05 8.09192657470703e-06\n",
      "2.2368431091308592e-05 1.1230111122131347e-05\n",
      "3.014246622721354e-05 1.846896277533637e-05\n",
      "2.926063537597656e-05 8.690834045410156e-06\n",
      "1.2912750244140624e-05 9.463917125355114e-06\n",
      "1.8037954966227213e-05 8.346239725748698e-06\n",
      "2.4104118347167967e-05 9.347108694223258e-06\n",
      "2.537522997174944e-05 1.1168888636997768e-05\n",
      "2.773602803548177e-05 1.0676701863606771e-05\n",
      "2.801746129989624e-05 9.85175371170044e-06\n",
      "3.7052491131950827e-05 9.918212890625e-06\n",
      "2.8014712863498262e-05 1.1468993292914497e-05\n",
      "3.462615766023335e-05 1.3661635549444901e-05\n",
      "2.806258201599121e-05 9.82499122619629e-06\n",
      "3.2130877176920576e-05 1.0014488583519345e-05\n",
      "3.9410157637162645e-05 9.887435219504616e-06\n",
      "4.0896249854046364e-05 1.4715402022652004e-05\n",
      "3.141005833943685e-05 8.839766184488933e-06\n",
      "4.392242431640625e-05 1.0657501220703125e-05\n",
      "4.7011925623967096e-05 1.0737455808199369e-05\n",
      "3.50136227077908e-05 1.3626063311541522e-05\n",
      "4.837257521493094e-05 1.2137549264090402e-05\n",
      "5.4736301816743e-05 1.0830287275643184e-05\n",
      "5.491018295288086e-05 1.2214819590250651e-05\n",
      "3.2178048164613786e-05 1.209474379016507e-05\n",
      "1.3867616653442383e-05 1.543179154396057e-05\n",
      "7.281447901870264e-05 3.733259258848248e-05\n",
      "5.05980323342716e-05 1.252286574419807e-05\n",
      "3.965418679373605e-05 8.79178728376116e-06\n",
      "6.738742192586263e-05 9.725491205851236e-06\n",
      "5.6922757947767105e-05 8.590543592298354e-06\n",
      "6.413848776566355e-05 7.903701380679481e-06\n",
      "6.981678498096955e-05 8.661930377666766e-06\n",
      "7.076501846313477e-05 1.2013912200927735e-05\n",
      "6.92787403013648e-05 9.990785180068598e-06\n",
      "3.7326812744140626e-05 1.260655266898019e-05\n",
      "7.53254114195358e-05 1.022616098093432e-05\n",
      "8.197437633167613e-05 1.1757503856312144e-05\n",
      "6.638420952690972e-05 1.4704492357042101e-05\n",
      "0.00010446030160655146 1.0689445163892664e-05\n",
      "0.00011677478222136802 1.4593651954163895e-05\n",
      "9.955942630767822e-05 1.3656715552012126e-05\n",
      "8.78998698020468e-05 1.2856989490742586e-05\n"
     ]
    }
   ],
   "source": [
    "for list_time, tree_time in zip(times_list, times_tree):\n",
    "    print(list_time, tree_time)"
   ]
  },
  {
   "cell_type": "code",
   "execution_count": 37,
   "metadata": {},
   "outputs": [
    {
     "name": "stdout",
     "output_type": "stream",
     "text": [
      "bst 1.143303453228372e-05\n",
      "rbt 1.4996731891686655e-05\n",
      "hmap 1.9928012681473225e-05\n"
     ]
    }
   ],
   "source": [
    "with open(\"./slowa.txt\", 'r') as file:\n",
    "    text = file.read().splitlines()\n",
    "    for name, structure in structures.items():\n",
    "        random.shuffle(text)\n",
    "        start = time.time()\n",
    "        for element in text:\n",
    "            structure.insert(element)\n",
    "        finish = time.time() - start\n",
    "        print(name, finish / len(text))"
   ]
  },
  {
   "cell_type": "code",
   "execution_count": 38,
   "metadata": {},
   "outputs": [
    {
     "name": "stdout",
     "output_type": "stream",
     "text": [
      "bst 8.051569688238952e-06 1.0\n",
      "rbt 6.863634694528781e-06 1.0\n",
      "hmap 8.667844681191364e-06 1.0\n"
     ]
    }
   ],
   "source": [
    "with open(\"./slowa.txt\", 'r') as file:\n",
    "    text = file.read().splitlines()\n",
    "    for name, structure in structures.items():\n",
    "        score = 0\n",
    "        random.shuffle(text)\n",
    "        start = time.time()\n",
    "        for element in text:\n",
    "            score += structure.find(element)\n",
    "        finish = time.time() - start\n",
    "        print(name, finish / len(text), score / len(text))"
   ]
  },
  {
   "cell_type": "code",
   "execution_count": 39,
   "metadata": {},
   "outputs": [
    {
     "name": "stdout",
     "output_type": "stream",
     "text": [
      "bst 1.0128358894725474e-05\n",
      "rbt 1.155592581572391e-05\n",
      "hmap 1.4508000218140622e-05\n"
     ]
    }
   ],
   "source": [
    "with open(\"./slowa.txt\", 'r') as file:\n",
    "    text = file.read().splitlines()\n",
    "    for name, structure in structures.items():\n",
    "        random.shuffle(text)\n",
    "        start = time.time()\n",
    "        for element in text:\n",
    "            structure.delete(element)\n",
    "        finish = time.time() - start\n",
    "        print(name, finish / len(text))"
   ]
  },
  {
   "cell_type": "code",
   "execution_count": 7,
   "metadata": {},
   "outputs": [
    {
     "name": "stdout",
     "output_type": "stream",
     "text": [
      "['Hypericum', 'Yeisk', 'juncous', 'noncathartical', 'sandrock', 'hypothecs', 'harr', 'TAE', 'factable', 'tonsilomycosis', 'sultanas', 'electrostrictive', 'melodied', 'Chimaphila', 'galactopyra', 'readvise', 'effortfulness', 'recurvoternate', 'Memel', 'lily-liver', 'laggardly', 'nonequivocal', 'bronchotetany', 'sorus', 'tomb-strewn', 'Cook', 'dyspneal', 'brandishers', 'Fachanan', 'antifungin', 'divertimentos', 'schematise', 'nondiligence', 'decharm', 'primroses', 'crapwa', 'endboard', 'revalidating', 'oppilative', 'lairds', 'pleasedly', 'confederalist', 'halterbreak', 'amandin', 'LZ', 'colins', 'Northumbrian', 'pedunculi', 'electre', 'basophobia', 'blousing', 'court-bouillon', 'pouty', 'Hawthornesque', 'cymose', 'coleworts', 'horripilation', 'ill-managed', 'syllabize', 'begroaning', 'Lepidosperma', 'coldheartedness', 'Hierosolymitan', 'kicktail', 'hemihedral', 'autotomy', 'hypoprosexia', 'Steiermark', 'ad-', 'encomimia', 'Kherson', 'Anguillaria', 'akindle', 'tietick', 'fugging', 'Sintsink', 'longicaudate', 'irruptive', 'nontheistic', 'collegiugia', 'Sachsse', 'prevocalically', 'audiometer', 'proplasm', 'anelectrode', 'lithophane', 'Diesel', 'motionlessnesses', 'marrowlike', 'massacring', 'hoers', 'cochylis', 'Branger', 'Hussitism', 'exasperating', 'postprophetic', 'butenyl', 'pawed', 'misgrade', 'sanatoririums']\n"
     ]
    }
   ],
   "source": []
  },
  {
   "cell_type": "code",
   "execution_count": null,
   "metadata": {},
   "outputs": [],
   "source": []
  }
 ],
 "metadata": {
  "kernelspec": {
   "display_name": "Python 3",
   "language": "python",
   "name": "python3"
  },
  "language_info": {
   "codemirror_mode": {
    "name": "ipython",
    "version": 3
   },
   "file_extension": ".py",
   "mimetype": "text/x-python",
   "name": "python",
   "nbconvert_exporter": "python",
   "pygments_lexer": "ipython3",
   "version": "3.6.3"
  }
 },
 "nbformat": 4,
 "nbformat_minor": 2
}
