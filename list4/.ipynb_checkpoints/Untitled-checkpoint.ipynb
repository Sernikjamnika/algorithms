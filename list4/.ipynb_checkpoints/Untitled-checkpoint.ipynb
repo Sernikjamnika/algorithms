{
 "cells": [
  {
   "cell_type": "code",
   "execution_count": 1,
   "metadata": {},
   "outputs": [],
   "source": [
    "from zad1.BSTTree import BSTTree\n",
    "from zad2.RBTree import RBTree\n",
    "from zad3.HashMap import HashMap\n",
    "import time\n",
    "import random"
   ]
  },
  {
   "cell_type": "code",
   "execution_count": 2,
   "metadata": {},
   "outputs": [],
   "source": [
    "bst = BSTTree()\n",
    "rbt = RBTree()\n",
    "hmap = HashMap()\n",
    "structures = {\n",
    "    \"bst\": bst,\n",
    "    \"rbt\": rbt,\n",
    "    \"hmap\": hmap}"
   ]
  },
  {
   "cell_type": "markdown",
   "metadata": {},
   "source": [
    "## Wyznaczanie nt"
   ]
  },
  {
   "cell_type": "code",
   "execution_count": 3,
   "metadata": {},
   "outputs": [
    {
     "name": "stdout",
     "output_type": "stream",
     "text": [
      "412053\n"
     ]
    }
   ],
   "source": [
    "array = []\n",
    "with open(\"./slowa.txt\", 'r') as file:\n",
    "    array = file.read().splitlines()\n",
    "print(len(array))"
   ]
  },
  {
   "cell_type": "code",
   "execution_count": 4,
   "metadata": {},
   "outputs": [
    {
     "ename": "KeyboardInterrupt",
     "evalue": "",
     "output_type": "error",
     "traceback": [
      "\u001b[0;31m---------------------------------------------------------------------------\u001b[0m",
      "\u001b[0;31mKeyboardInterrupt\u001b[0m                         Traceback (most recent call last)",
      "\u001b[0;32m<ipython-input-4-c8feb26bf991>\u001b[0m in \u001b[0;36m<module>\u001b[0;34m()\u001b[0m\n\u001b[1;32m     10\u001b[0m             \u001b[0;32mif\u001b[0m \u001b[0melement\u001b[0m \u001b[0;34m>\u001b[0m \u001b[0mnew_word\u001b[0m\u001b[0;34m:\u001b[0m\u001b[0;34m\u001b[0m\u001b[0m\n\u001b[1;32m     11\u001b[0m                 \u001b[0mflag\u001b[0m \u001b[0;34m=\u001b[0m \u001b[0;32mFalse\u001b[0m\u001b[0;34m\u001b[0m\u001b[0m\n\u001b[0;32m---> 12\u001b[0;31m                 \u001b[0mtesting_list\u001b[0m\u001b[0;34m.\u001b[0m\u001b[0minsert\u001b[0m\u001b[0;34m(\u001b[0m\u001b[0mindex\u001b[0m\u001b[0;34m,\u001b[0m \u001b[0mnew_word\u001b[0m\u001b[0;34m)\u001b[0m\u001b[0;34m\u001b[0m\u001b[0m\n\u001b[0m\u001b[1;32m     13\u001b[0m         \u001b[0;32mif\u001b[0m \u001b[0mflag\u001b[0m\u001b[0;34m:\u001b[0m\u001b[0;34m\u001b[0m\u001b[0m\n\u001b[1;32m     14\u001b[0m             \u001b[0mtesting_list\u001b[0m\u001b[0;34m.\u001b[0m\u001b[0mappend\u001b[0m\u001b[0;34m(\u001b[0m\u001b[0mnew_word\u001b[0m\u001b[0;34m)\u001b[0m\u001b[0;34m\u001b[0m\u001b[0m\n",
      "\u001b[0;31mKeyboardInterrupt\u001b[0m: "
     ]
    }
   ],
   "source": [
    "times_list = []\n",
    "for i in range (50, 51, 100):\n",
    "    tmp = array[:i]\n",
    "    random.shuffle(tmp)\n",
    "    flag = True\n",
    "    start = time.time()\n",
    "    testing_list = []\n",
    "    for new_word in tmp:\n",
    "        for index, element in enumerate(testing_list):\n",
    "            if element > new_word:\n",
    "                flag = False\n",
    "                testing_list.insert(index, new_word)\n",
    "        if flag:\n",
    "            testing_list.append(new_word)\n",
    "            flag = True\n",
    "    times_list.append((time.time() - start) / i) "
   ]
  },
  {
   "cell_type": "code",
   "execution_count": null,
   "metadata": {},
   "outputs": [],
   "source": [
    "testing_rbt = RBTree()\n",
    "times_tree = []\n",
    "for i in range (100, 1000, 100):\n",
    "    tmp = array[:i]\n",
    "    random.shuffle(tmp)\n",
    "    flag = True\n",
    "    start = time.time()\n",
    "    for new_word in tmp:\n",
    "        testing_rbt.insert(new_word)\n",
    "    times_tree.append((time.time() - start) / i)    "
   ]
  },
  {
   "cell_type": "code",
   "execution_count": 6,
   "metadata": {},
   "outputs": [
    {
     "name": "stdout",
     "output_type": "stream",
     "text": [
      "6.270408630371093e-07 1.1777877807617187e-05\n",
      "5.97238540649414e-07 1.1692047119140625e-05\n",
      "5.896886189778645e-07 8.86996587117513e-06\n",
      "6.16908073425293e-07 1.1300444602966309e-05\n",
      "5.192756652832031e-07 1.1474609375e-05\n",
      "5.598862965901692e-07 2.809882164001465e-05\n",
      "5.480221339634486e-07 1.066446304321289e-05\n",
      "5.674362182617187e-07 8.641183376312256e-06\n",
      "6.604194641113281e-07 1.2114048004150391e-05\n",
      "6.129741668701172e-07 9.784936904907226e-06\n",
      "5.92361796985973e-07 9.822628714821555e-06\n",
      "5.894899368286133e-07 9.321967760721843e-06\n",
      "6.090677701509916e-07 9.970664978027344e-06\n",
      "5.883829934256418e-07 1.018524169921875e-05\n",
      "6.327629089355469e-07 9.781678517659505e-06\n",
      "6.982684135437012e-07 9.768009185791015e-06\n",
      "3.9745779598460476e-07 1.0456057155833526e-05\n",
      "5.201498667399088e-07 1.0304318534003363e-05\n",
      "3.650313929507607e-07 1.1098886791028475e-05\n",
      "3.6263465881347654e-07 1.0583519935607911e-05\n",
      "4.214332217261905e-07 1.1017209007626488e-05\n",
      "3.8873065601695666e-07 1.1006376960060813e-05\n",
      "3.7732331649116847e-07 1.1632131493609885e-05\n",
      "3.3388535181681315e-07 1.136412223180135e-05\n",
      "3.4427642822265624e-07 1.276693344116211e-05\n",
      "3.333275134746845e-07 1.195990122281588e-05\n",
      "4.4045624909577546e-07 1.2124909294976128e-05\n",
      "3.566060747419085e-07 2.8720412935529435e-05\n",
      "3.6354722647831357e-07 1.2090041719633957e-05\n",
      "3.600120544433594e-07 1.2587149937947591e-05\n",
      "3.5616659349010837e-07 1.2579964053246283e-05\n",
      "3.332644701004028e-07 1.272834837436676e-05\n",
      "3.82914687647964e-07 1.286029815673828e-05\n",
      "3.421306610107422e-07 1.2936942717608283e-05\n",
      "3.4080232892717635e-07 1.3065814971923828e-05\n",
      "3.335211012098524e-07 1.5687412685818143e-05\n",
      "3.396498190390097e-07 1.3177717054212415e-05\n",
      "3.956493578459087e-07 1.3533830642700195e-05\n",
      "3.5787240052834536e-07 1.370546145316882e-05\n"
     ]
    }
   ],
   "source": [
    "for list_time, tree_time in zip(times_list, times_tree):\n",
    "    print(list_time, tree_time)"
   ]
  },
  {
   "cell_type": "code",
   "execution_count": 7,
   "metadata": {},
   "outputs": [
    {
     "name": "stdout",
     "output_type": "stream",
     "text": [
      "bst 1.1363700102210013e-05\n",
      "rbt 1.5952336455852012e-05\n",
      "hmap 2.060692525570921e-05\n"
     ]
    }
   ],
   "source": [
    "with open(\"./slowa.txt\", 'r') as file:\n",
    "    text = file.read().splitlines()\n",
    "    for name, structure in structures.items():\n",
    "        random.shuffle(text)\n",
    "        start = time.time()\n",
    "        for element in text:\n",
    "            structure.insert(element)\n",
    "        finish = time.time() - start\n",
    "        print(name, finish / len(text))"
   ]
  },
  {
   "cell_type": "code",
   "execution_count": 8,
   "metadata": {},
   "outputs": [
    {
     "name": "stdout",
     "output_type": "stream",
     "text": [
      "bst 7.863058081549304e-06 1.0\n",
      "rbt 8.380917054913498e-06 1.0\n",
      "hmap 9.576947401260852e-06 1.0\n"
     ]
    }
   ],
   "source": [
    "with open(\"./slowa.txt\", 'r') as file:\n",
    "    text = file.read().splitlines()\n",
    "    for name, structure in structures.items():\n",
    "        score = 0\n",
    "        random.shuffle(text)\n",
    "        start = time.time()\n",
    "        for element in text:\n",
    "            score += structure.find(element)\n",
    "        finish = time.time() - start\n",
    "        print(name, finish / len(text), score / len(text))"
   ]
  },
  {
   "cell_type": "code",
   "execution_count": 9,
   "metadata": {},
   "outputs": [
    {
     "name": "stdout",
     "output_type": "stream",
     "text": [
      "bst 8.966520434118178e-06\n",
      "rbt 1.172123221066927e-05\n",
      "hmap 1.4811872480397331e-05\n"
     ]
    }
   ],
   "source": [
    "with open(\"./slowa.txt\", 'r') as file:\n",
    "    text = file.read().splitlines()\n",
    "    for name, structure in structures.items():\n",
    "        random.shuffle(text)\n",
    "        start = time.time()\n",
    "        for element in text:\n",
    "            structure.delete(element)\n",
    "        finish = time.time() - start\n",
    "        print(name, finish / len(text))"
   ]
  },
  {
   "cell_type": "code",
   "execution_count": 7,
   "metadata": {},
   "outputs": [
    {
     "name": "stdout",
     "output_type": "stream",
     "text": [
      "['Hypericum', 'Yeisk', 'juncous', 'noncathartical', 'sandrock', 'hypothecs', 'harr', 'TAE', 'factable', 'tonsilomycosis', 'sultanas', 'electrostrictive', 'melodied', 'Chimaphila', 'galactopyra', 'readvise', 'effortfulness', 'recurvoternate', 'Memel', 'lily-liver', 'laggardly', 'nonequivocal', 'bronchotetany', 'sorus', 'tomb-strewn', 'Cook', 'dyspneal', 'brandishers', 'Fachanan', 'antifungin', 'divertimentos', 'schematise', 'nondiligence', 'decharm', 'primroses', 'crapwa', 'endboard', 'revalidating', 'oppilative', 'lairds', 'pleasedly', 'confederalist', 'halterbreak', 'amandin', 'LZ', 'colins', 'Northumbrian', 'pedunculi', 'electre', 'basophobia', 'blousing', 'court-bouillon', 'pouty', 'Hawthornesque', 'cymose', 'coleworts', 'horripilation', 'ill-managed', 'syllabize', 'begroaning', 'Lepidosperma', 'coldheartedness', 'Hierosolymitan', 'kicktail', 'hemihedral', 'autotomy', 'hypoprosexia', 'Steiermark', 'ad-', 'encomimia', 'Kherson', 'Anguillaria', 'akindle', 'tietick', 'fugging', 'Sintsink', 'longicaudate', 'irruptive', 'nontheistic', 'collegiugia', 'Sachsse', 'prevocalically', 'audiometer', 'proplasm', 'anelectrode', 'lithophane', 'Diesel', 'motionlessnesses', 'marrowlike', 'massacring', 'hoers', 'cochylis', 'Branger', 'Hussitism', 'exasperating', 'postprophetic', 'butenyl', 'pawed', 'misgrade', 'sanatoririums']\n"
     ]
    }
   ],
   "source": []
  },
  {
   "cell_type": "code",
   "execution_count": null,
   "metadata": {},
   "outputs": [],
   "source": []
  }
 ],
 "metadata": {
  "kernelspec": {
   "display_name": "Python 3",
   "language": "python",
   "name": "python3"
  },
  "language_info": {
   "codemirror_mode": {
    "name": "ipython",
    "version": 3
   },
   "file_extension": ".py",
   "mimetype": "text/x-python",
   "name": "python",
   "nbconvert_exporter": "python",
   "pygments_lexer": "ipython3",
   "version": "3.6.3"
  }
 },
 "nbformat": 4,
 "nbformat_minor": 2
}
